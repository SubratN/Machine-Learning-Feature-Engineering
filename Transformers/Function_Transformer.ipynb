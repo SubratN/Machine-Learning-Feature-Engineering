{
 "cells": [
  {
   "cell_type": "code",
   "execution_count": 1,
   "id": "22445f5c",
   "metadata": {},
   "outputs": [],
   "source": [
    "import numpy as np\n",
    "import pandas as pd\n",
    "import scipy.stats as stats\n",
    "\n",
    "import matplotlib.pyplot as plt\n",
    "import seaborn as sns\n",
    "\n",
    "from sklearn.model_selection import train_test_split,cross_val_score\n",
    "from sklearn.metrics import accuracy_score\n",
    "\n",
    "from sklearn.linear_model import LogisticRegression\n",
    "from sklearn.tree import DecisionTreeClassifier\n",
    "\n",
    "from sklearn.preprocessing import FunctionTransformer\n",
    "from sklearn.compose import ColumnTransformer"
   ]
  },
  {
   "cell_type": "markdown",
   "id": "f1417560",
   "metadata": {},
   "source": [
    "We will use only 'Age','Fare','Survived' columns for our test."
   ]
  },
  {
   "cell_type": "code",
   "execution_count": 7,
   "id": "5baf4d52",
   "metadata": {},
   "outputs": [],
   "source": [
    "df = pd.read_csv('train.csv', usecols=['Age','Fare','Survived'])"
   ]
  },
  {
   "cell_type": "code",
   "execution_count": 8,
   "id": "5901c2a1",
   "metadata": {},
   "outputs": [
    {
     "data": {
      "text/html": [
       "<div>\n",
       "<style scoped>\n",
       "    .dataframe tbody tr th:only-of-type {\n",
       "        vertical-align: middle;\n",
       "    }\n",
       "\n",
       "    .dataframe tbody tr th {\n",
       "        vertical-align: top;\n",
       "    }\n",
       "\n",
       "    .dataframe thead th {\n",
       "        text-align: right;\n",
       "    }\n",
       "</style>\n",
       "<table border=\"1\" class=\"dataframe\">\n",
       "  <thead>\n",
       "    <tr style=\"text-align: right;\">\n",
       "      <th></th>\n",
       "      <th>Survived</th>\n",
       "      <th>Age</th>\n",
       "      <th>Fare</th>\n",
       "    </tr>\n",
       "  </thead>\n",
       "  <tbody>\n",
       "    <tr>\n",
       "      <th>0</th>\n",
       "      <td>0</td>\n",
       "      <td>22.0</td>\n",
       "      <td>7.2500</td>\n",
       "    </tr>\n",
       "    <tr>\n",
       "      <th>1</th>\n",
       "      <td>1</td>\n",
       "      <td>38.0</td>\n",
       "      <td>71.2833</td>\n",
       "    </tr>\n",
       "    <tr>\n",
       "      <th>2</th>\n",
       "      <td>1</td>\n",
       "      <td>26.0</td>\n",
       "      <td>7.9250</td>\n",
       "    </tr>\n",
       "    <tr>\n",
       "      <th>3</th>\n",
       "      <td>1</td>\n",
       "      <td>35.0</td>\n",
       "      <td>53.1000</td>\n",
       "    </tr>\n",
       "    <tr>\n",
       "      <th>4</th>\n",
       "      <td>0</td>\n",
       "      <td>35.0</td>\n",
       "      <td>8.0500</td>\n",
       "    </tr>\n",
       "  </tbody>\n",
       "</table>\n",
       "</div>"
      ],
      "text/plain": [
       "   Survived   Age     Fare\n",
       "0         0  22.0   7.2500\n",
       "1         1  38.0  71.2833\n",
       "2         1  26.0   7.9250\n",
       "3         1  35.0  53.1000\n",
       "4         0  35.0   8.0500"
      ]
     },
     "execution_count": 8,
     "metadata": {},
     "output_type": "execute_result"
    }
   ],
   "source": [
    "df.head()"
   ]
  },
  {
   "cell_type": "code",
   "execution_count": 9,
   "id": "bcd6cc44",
   "metadata": {},
   "outputs": [
    {
     "data": {
      "text/plain": [
       "(891, 3)"
      ]
     },
     "execution_count": 9,
     "metadata": {},
     "output_type": "execute_result"
    }
   ],
   "source": [
    "df.shape"
   ]
  },
  {
   "cell_type": "code",
   "execution_count": 11,
   "id": "19a8798a",
   "metadata": {},
   "outputs": [
    {
     "name": "stdout",
     "output_type": "stream",
     "text": [
      "<class 'pandas.core.frame.DataFrame'>\n",
      "RangeIndex: 891 entries, 0 to 890\n",
      "Data columns (total 3 columns):\n",
      " #   Column    Non-Null Count  Dtype  \n",
      "---  ------    --------------  -----  \n",
      " 0   Survived  891 non-null    int64  \n",
      " 1   Age       714 non-null    float64\n",
      " 2   Fare      891 non-null    float64\n",
      "dtypes: float64(2), int64(1)\n",
      "memory usage: 21.0 KB\n"
     ]
    }
   ],
   "source": [
    "df.info()"
   ]
  },
  {
   "cell_type": "code",
   "execution_count": 10,
   "id": "1d969b79",
   "metadata": {},
   "outputs": [
    {
     "data": {
      "text/plain": [
       "Survived      0\n",
       "Age         177\n",
       "Fare          0\n",
       "dtype: int64"
      ]
     },
     "execution_count": 10,
     "metadata": {},
     "output_type": "execute_result"
    }
   ],
   "source": [
    "#check missing values\n",
    "df.isnull().sum()"
   ]
  },
  {
   "cell_type": "code",
   "execution_count": 15,
   "id": "89aa8bb9",
   "metadata": {},
   "outputs": [],
   "source": [
    "#fill the missing values in Age column\n",
    "df['Age'].fillna(df['Age'].mean(),inplace = True)"
   ]
  },
  {
   "cell_type": "code",
   "execution_count": 16,
   "id": "000360c8",
   "metadata": {},
   "outputs": [
    {
     "data": {
      "text/plain": [
       "Survived    0\n",
       "Age         0\n",
       "Fare        0\n",
       "dtype: int64"
      ]
     },
     "execution_count": 16,
     "metadata": {},
     "output_type": "execute_result"
    }
   ],
   "source": [
    "df.isnull().sum()"
   ]
  },
  {
   "cell_type": "code",
   "execution_count": 20,
   "id": "8f3bd6e5",
   "metadata": {},
   "outputs": [],
   "source": [
    "X = df.drop(['Survived'],axis=1)\n",
    "y = df['Survived']"
   ]
  },
  {
   "cell_type": "code",
   "execution_count": 23,
   "id": "ebf1bc04",
   "metadata": {},
   "outputs": [],
   "source": [
    "# Train Test split\n",
    "X_train, X_test, y_train, y_test = train_test_split(X,y,test_size=0.2,random_state=42)"
   ]
  },
  {
   "cell_type": "code",
   "execution_count": 64,
   "id": "06424a04",
   "metadata": {},
   "outputs": [
    {
     "data": {
      "text/html": [
       "<div>\n",
       "<style scoped>\n",
       "    .dataframe tbody tr th:only-of-type {\n",
       "        vertical-align: middle;\n",
       "    }\n",
       "\n",
       "    .dataframe tbody tr th {\n",
       "        vertical-align: top;\n",
       "    }\n",
       "\n",
       "    .dataframe thead th {\n",
       "        text-align: right;\n",
       "    }\n",
       "</style>\n",
       "<table border=\"1\" class=\"dataframe\">\n",
       "  <thead>\n",
       "    <tr style=\"text-align: right;\">\n",
       "      <th></th>\n",
       "      <th>Age</th>\n",
       "      <th>Fare</th>\n",
       "    </tr>\n",
       "  </thead>\n",
       "  <tbody>\n",
       "    <tr>\n",
       "      <th>331</th>\n",
       "      <td>45.500000</td>\n",
       "      <td>28.5000</td>\n",
       "    </tr>\n",
       "    <tr>\n",
       "      <th>733</th>\n",
       "      <td>23.000000</td>\n",
       "      <td>13.0000</td>\n",
       "    </tr>\n",
       "    <tr>\n",
       "      <th>382</th>\n",
       "      <td>32.000000</td>\n",
       "      <td>7.9250</td>\n",
       "    </tr>\n",
       "    <tr>\n",
       "      <th>704</th>\n",
       "      <td>26.000000</td>\n",
       "      <td>7.8542</td>\n",
       "    </tr>\n",
       "    <tr>\n",
       "      <th>813</th>\n",
       "      <td>6.000000</td>\n",
       "      <td>31.2750</td>\n",
       "    </tr>\n",
       "    <tr>\n",
       "      <th>...</th>\n",
       "      <td>...</td>\n",
       "      <td>...</td>\n",
       "    </tr>\n",
       "    <tr>\n",
       "      <th>106</th>\n",
       "      <td>21.000000</td>\n",
       "      <td>7.6500</td>\n",
       "    </tr>\n",
       "    <tr>\n",
       "      <th>270</th>\n",
       "      <td>29.699118</td>\n",
       "      <td>31.0000</td>\n",
       "    </tr>\n",
       "    <tr>\n",
       "      <th>860</th>\n",
       "      <td>41.000000</td>\n",
       "      <td>14.1083</td>\n",
       "    </tr>\n",
       "    <tr>\n",
       "      <th>435</th>\n",
       "      <td>14.000000</td>\n",
       "      <td>120.0000</td>\n",
       "    </tr>\n",
       "    <tr>\n",
       "      <th>102</th>\n",
       "      <td>21.000000</td>\n",
       "      <td>77.2875</td>\n",
       "    </tr>\n",
       "  </tbody>\n",
       "</table>\n",
       "<p>712 rows × 2 columns</p>\n",
       "</div>"
      ],
      "text/plain": [
       "           Age      Fare\n",
       "331  45.500000   28.5000\n",
       "733  23.000000   13.0000\n",
       "382  32.000000    7.9250\n",
       "704  26.000000    7.8542\n",
       "813   6.000000   31.2750\n",
       "..         ...       ...\n",
       "106  21.000000    7.6500\n",
       "270  29.699118   31.0000\n",
       "860  41.000000   14.1083\n",
       "435  14.000000  120.0000\n",
       "102  21.000000   77.2875\n",
       "\n",
       "[712 rows x 2 columns]"
      ]
     },
     "execution_count": 64,
     "metadata": {},
     "output_type": "execute_result"
    }
   ],
   "source": [
    "X_train"
   ]
  },
  {
   "cell_type": "markdown",
   "id": "e2f59a69",
   "metadata": {},
   "source": [
    "Check the distribution of input features."
   ]
  },
  {
   "cell_type": "code",
   "execution_count": 32,
   "id": "9c323a5e",
   "metadata": {},
   "outputs": [
    {
     "name": "stderr",
     "output_type": "stream",
     "text": [
      "C:\\Users\\Subrat\\anaconda3\\lib\\site-packages\\seaborn\\distributions.py:2619: FutureWarning: `distplot` is a deprecated function and will be removed in a future version. Please adapt your code to use either `displot` (a figure-level function with similar flexibility) or `histplot` (an axes-level function for histograms).\n",
      "  warnings.warn(msg, FutureWarning)\n"
     ]
    },
    {
     "data": {
      "image/png": "[encoded data removed]",
      "text/plain": [
       "<Figure size 1080x360 with 2 Axes>"
      ]
     },
     "metadata": {
      "needs_background": "light"
     },
     "output_type": "display_data"
    }
   ],
   "source": [
    "plt.figure(figsize=(15,5))\n",
    "plt.subplot(121)\n",
    "sns.distplot(X_train['Age'])\n",
    "plt.title('Age PDF')\n",
    "\n",
    "plt.subplot(122)\n",
    "stats.probplot(X_train['Age'],dist='norm',plot=plt)\n",
    "plt.title('Age QQ Plot')\n",
    "\n",
    "plt.show()"
   ]
  },
  {
   "cell_type": "code",
   "execution_count": 36,
   "id": "978805c2",
   "metadata": {},
   "outputs": [
    {
     "name": "stderr",
     "output_type": "stream",
     "text": [
      "C:\\Users\\Subrat\\anaconda3\\lib\\site-packages\\seaborn\\distributions.py:2619: FutureWarning: `distplot` is a deprecated function and will be removed in a future version. Please adapt your code to use either `displot` (a figure-level function with similar flexibility) or `histplot` (an axes-level function for histograms).\n",
      "  warnings.warn(msg, FutureWarning)\n"
     ]
    },
    {
     "data": {
      "image/png": "[encoded data removed]",
      "text/plain": [
       "<Figure size 1080x360 with 2 Axes>"
      ]
     },
     "metadata": {
      "needs_background": "light"
     },
     "output_type": "display_data"
    }
   ],
   "source": [
    "plt.figure(figsize=(15,5))\n",
    "plt.subplot(121)\n",
    "sns.distplot(X_train['Fare'])\n",
    "plt.title('Fare PDF')\n",
    "\n",
    "plt.subplot(122)\n",
    "stats.probplot(X_train['Fare'],dist='norm',plot=plt)\n",
    "plt.title('Fare QQ Plot')\n",
    "\n",
    "plt.show()"
   ]
  },
  {
   "cell_type": "code",
   "execution_count": 37,
   "id": "693a8fa2",
   "metadata": {},
   "outputs": [],
   "source": [
    "model_log1 = LogisticRegression()\n",
    "model_dt1 = DecisionTreeClassifier()"
   ]
  },
  {
   "cell_type": "code",
   "execution_count": 53,
   "id": "e5b7c00d",
   "metadata": {},
   "outputs": [
    {
     "name": "stdout",
     "output_type": "stream",
     "text": [
      "Accuracy score of Logistic : 0.6480446927374302\n",
      "Accuracy score of DT :  0.6536312849162011\n"
     ]
    }
   ],
   "source": [
    "model_log1.fit(X_train,y_train)\n",
    "model_dt1.fit(X_train,y_train)\n",
    "\n",
    "y_pred1 = model_log1.predict(X_test)\n",
    "y_pred2 = model_dt1.predict(X_test)\n",
    "\n",
    "print('Accuracy score of Logistic :', accuracy_score(y_test,y_pred1))\n",
    "print(\"Accuracy score of DT : \",accuracy_score(y_test,y_pred2))"
   ]
  },
  {
   "cell_type": "markdown",
   "id": "9302cb27",
   "metadata": {},
   "source": [
    "We will use Function Transformer only on Fare column as the data is right skewed."
   ]
  },
  {
   "cell_type": "code",
   "execution_count": 54,
   "id": "f4364e49",
   "metadata": {},
   "outputs": [],
   "source": [
    "trns = ColumnTransformer([\n",
    "    ('log_trns',FunctionTransformer(np.log1p),['Fare'])\n",
    "],remainder='passthrough') #It will apply transform only on Fare column and will pass the the rest columns"
   ]
  },
  {
   "cell_type": "code",
   "execution_count": 55,
   "id": "8a816b42",
   "metadata": {},
   "outputs": [],
   "source": [
    "X_train_trans = trns.fit_transform(X_train)\n",
    "X_test_trans = trns.transform(X_test)"
   ]
  },
  {
   "cell_type": "code",
   "execution_count": 62,
   "id": "aca673cd",
   "metadata": {},
   "outputs": [
    {
     "name": "stdout",
     "output_type": "stream",
     "text": [
      "Accuracy score of Logistic : 0.6703910614525139\n",
      "Accuracy score of DT :  0.6536312849162011\n"
     ]
    }
   ],
   "source": [
    "model_log2 = LogisticRegression()\n",
    "model_dt2  = DecisionTreeClassifier()\n",
    "\n",
    "model_log2.fit(X_train_trans,y_train)\n",
    "model_dt2.fit(X_train_trans,y_train)\n",
    "\n",
    "y_pred3 = model_log2.predict(X_test_trans)\n",
    "y_pred4 = model_dt2.predict(X_test_trans)\n",
    "\n",
    "print('Accuracy score of Logistic :', accuracy_score(y_test,y_pred3))\n",
    "print(\"Accuracy score of DT : \", accuracy_score(y_test,y_pred4))"
   ]
  },
  {
   "cell_type": "code",
   "execution_count": 71,
   "id": "c95948b2",
   "metadata": {},
   "outputs": [
    {
     "data": {
      "text/plain": [
       "Text(0.5, 1.0, 'Fare After Transform')"
      ]
     },
     "execution_count": 71,
     "metadata": {},
     "output_type": "execute_result"
    },
    {
     "data": {
      "image/png": "[encoded data removed]",
      "text/plain": [
       "<Figure size 1008x288 with 2 Axes>"
      ]
     },
     "metadata": {
      "needs_background": "light"
     },
     "output_type": "display_data"
    }
   ],
   "source": [
    "plt.figure(figsize=(14,4))\n",
    "\n",
    "plt.subplot(121)\n",
    "stats.probplot(X_train['Fare'], dist=\"norm\", plot=plt)\n",
    "plt.title('Fare Before Transform')\n",
    "\n",
    "plt.subplot(122)\n",
    "stats.probplot(X_train_trans[:,1], dist=\"norm\", plot=plt)\n",
    "plt.title('Fare After Transform')\n"
   ]
  },
  {
   "cell_type": "code",
   "execution_count": 57,
   "id": "40c7e80c",
   "metadata": {},
   "outputs": [],
   "source": [
    "# Cross validation score\n",
    "X_trans = trns.fit_transform(X)\n",
    "\n",
    "model1 = LogisticRegression()\n",
    "model2 = DecisionTreeClassifier()"
   ]
  },
  {
   "cell_type": "code",
   "execution_count": 61,
   "id": "e5797868",
   "metadata": {},
   "outputs": [
    {
     "name": "stdout",
     "output_type": "stream",
     "text": [
      "LR : 0.6712609238451936\n",
      "DT : 0.6622222222222222\n"
     ]
    }
   ],
   "source": [
    "print('LR :',np.mean(cross_val_score(model1, X_trans, y, scoring='accuracy', cv=10)))\n",
    "print('DT :',np.mean(cross_val_score(model2, X_trans, y, scoring='accuracy', cv=10)))"
   ]
  },
  {
   "cell_type": "code",
   "execution_count": null,
   "id": "86eacab6",
   "metadata": {},
   "outputs": [],
   "source": []
  }
 ],
 "metadata": {
  "kernelspec": {
   "display_name": "Python 3 (ipykernel)",
   "language": "python",
   "name": "python3"
  },
  "language_info": {
   "codemirror_mode": {
    "name": "ipython",
    "version": 3
   },
   "file_extension": ".py",
   "mimetype": "text/x-python",
   "name": "python",
   "nbconvert_exporter": "python",
   "pygments_lexer": "ipython3",
   "version": "3.9.7"
  }
 },
 "nbformat": 4,
 "nbformat_minor": 5
}
